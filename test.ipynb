{
 "cells": [
  {
   "cell_type": "code",
   "execution_count": 2,
   "metadata": {},
   "outputs": [],
   "source": [
    "import pickle\n",
    "from pprint import pprint"
   ]
  },
  {
   "cell_type": "code",
   "execution_count": 9,
   "metadata": {},
   "outputs": [
    {
     "name": "stdout",
     "output_type": "stream",
     "text": [
      "Contents of waterbirds_resnet_layerwise.pkl:\n",
      "{'test_aa': 0.9536303877830505,\n",
      " 'test_acc_by_class': [0.9474501],\n",
      " 'test_acc_by_group': [0.9986696, 0.8962306, 0.33489096, 0.847352],\n",
      " 'test_wca': 0.9474501013755798,\n",
      " 'test_wga': 0.3348909616470337,\n",
      " 'train_aa': 1.0,\n",
      " 'train_acc_by_class': [1.0],\n",
      " 'train_acc_by_group': [1.0, 1.0, 1.0, 1.0],\n",
      " 'train_wca': 1.0,\n",
      " 'train_wga': 1.0,\n",
      " 'version': 'j71zefzj'}\n",
      "Contents of celeba_resnet_layerwise.pkl:\n",
      "{'test_aa': 0.9500049948692322,\n",
      " 'test_acc_by_class': [0.97566754],\n",
      " 'test_acc_by_group': [0.9614006, 0.9941606, 0.808871, 0.42777777],\n",
      " 'test_wca': 0.9756675362586975,\n",
      " 'test_wga': 0.4277777671813965,\n",
      " 'train_aa': 0.9999693036079407,\n",
      " 'train_acc_by_class': [0.9999711],\n",
      " 'train_acc_by_group': [0.9999581, 0.99998504, 0.9999563, 1.0],\n",
      " 'train_wca': 0.9999710917472839,\n",
      " 'train_wga': 0.9999563097953796,\n",
      " 'version': 'ydrop0a2'}\n"
     ]
    }
   ],
   "source": [
    "# Replace 'your_file.pkl' with the path to your pickle file\n",
    "pkl_list = [('waterbirds_resnet_layerwise.pkl', 10000), ('celeba_resnet_layerwise.pkl', 2000)]\n",
    "\n",
    "try:\n",
    "    for pkl, ep in pkl_list:\n",
    "        with open(pkl, 'rb') as file:\n",
    "            data = pickle.load(file)\n",
    "            print(\"Contents of \" + pkl +\":\")\n",
    "            pprint(data[1][18][\"none\"][\"erm\"][ep])  #[\"version\"]\n",
    "except FileNotFoundError:\n",
    "    print(f\"File not found: {pkl}\")\n",
    "except pickle.UnpicklingError:\n",
    "    print(\"Error: The file could not be unpickled. It may be corrupted or not a valid pickle file.\")\n",
    "except Exception as e:\n",
    "    print(f\"An unexpected error occurred: {e}\")"
   ]
  }
 ],
 "metadata": {
  "kernelspec": {
   "display_name": "understanding-llr",
   "language": "python",
   "name": "python3"
  },
  "language_info": {
   "codemirror_mode": {
    "name": "ipython",
    "version": 3
   },
   "file_extension": ".py",
   "mimetype": "text/x-python",
   "name": "python",
   "nbconvert_exporter": "python",
   "pygments_lexer": "ipython3",
   "version": "3.10.0"
  }
 },
 "nbformat": 4,
 "nbformat_minor": 2
}
